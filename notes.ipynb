{
 "cells": [
  {
   "cell_type": "markdown",
   "id": "cacf1f05",
   "metadata": {},
   "source": [
    "## The Maxout Unit\n",
    "\n",
    "$$\n",
    "\n",
    "h_i(x) = max_{j = 1,..., k} z_{ij} =  max_{j = 1,..., k} x^{T}W_{ij} + b_{ij}\n",
    "\n",
    "$$"
   ]
  },
  {
   "cell_type": "code",
   "execution_count": 1,
   "id": "0b33943a",
   "metadata": {},
   "outputs": [],
   "source": [
    "from typing import Any\n",
    "\n",
    "import torch\n",
    "import torch.nn as nn\n",
    "import torch.nn.functional as F\n",
    "\n",
    "import numpy as np\n",
    "import matplotlib.pyplot as plt"
   ]
  },
  {
   "cell_type": "code",
   "execution_count": 2,
   "id": "8a6e8d73",
   "metadata": {},
   "outputs": [],
   "source": [
    "# set random seed for reproducability\n",
    "seed = 42\n",
    "_ = torch.manual_seed(seed=seed)"
   ]
  },
  {
   "cell_type": "code",
   "execution_count": 3,
   "id": "e2660384",
   "metadata": {},
   "outputs": [],
   "source": [
    "class Maxout(nn.Module):\n",
    "    \"\"\"\n",
    "    Implementation of the fully-connected maxout layer.\n",
    "\n",
    "    Reference:\n",
    "    Maxout Networks; Goodfellow et al. 2013\n",
    "    https://arxiv.org/abs/1302.4389\n",
    "    \"\"\" \n",
    "    def __init__(\n",
    "            self,\n",
    "            in_features: int,\n",
    "            num_units: int,\n",
    "            num_pieces: int,\n",
    "            bias: bool=True,\n",
    "            device: Any | None = None,\n",
    "            dtype: Any | None = None\n",
    "        ) -> None:\n",
    "        super().__init__()\n",
    "        self.in_features = in_features\n",
    "        self.num_units = num_units\n",
    "        self.num_pieces = num_pieces\n",
    "        self.bias = bias\n",
    "\n",
    "        self.layer = nn.Linear(\n",
    "            in_features, \n",
    "            num_pieces * num_units, \n",
    "            bias,\n",
    "            device,\n",
    "            dtype\n",
    "        )        \n",
    "\n",
    "    def forward(self, x: torch.Tensor) -> torch.Tensor:\n",
    "        x = self.layer(x)               # [N, num_pieces * num_units]\n",
    "        x = x.view(\n",
    "            -1, \n",
    "            self.num_units, \n",
    "            self.num_pieces\n",
    "        )                               # [N, num_units, num_pieces]\n",
    "        x, _ = torch.max(x, dim=2)      # [N, num_units]\n",
    "        return x"
   ]
  },
  {
   "cell_type": "markdown",
   "id": "e4d5e8f4",
   "metadata": {},
   "source": [
    "## Experiments\n",
    "Recreating the experiments from Figure 1. in the paper, by showing how the maxout activation function can implement the rectified linear, absolute value rectifier, and approximate the quadratic function.\n",
    "\n",
    "### Creating the training data"
   ]
  },
  {
   "cell_type": "code",
   "execution_count": 4,
   "id": "eddc3450",
   "metadata": {},
   "outputs": [],
   "source": [
    "N_samples = 1000\n",
    "x_min = -1\n",
    "x_max = 1\n",
    "\n",
    "X_train = torch.linspace(x_min, x_max, N_samples).reshape(-1, 1)\n",
    "\n",
    "# train data for ReLU\n",
    "y_train_relu = F.relu(X_train)\n",
    "\n",
    "# train data for abs\n",
    "y_train_abs = torch.abs(X_train)\n",
    "\n",
    "# train data for quadratic function f(x) = x^2\n",
    "y_train_quad = X_train ** 2\n",
    "\n",
    "y_train = {\n",
    "    'Rectifier': y_train_relu,\n",
    "    'Absolute value' : y_train_abs,\n",
    "    'Quadratic' : y_train_quad\n",
    "}"
   ]
  },
  {
   "cell_type": "markdown",
   "id": "77fcabc6",
   "metadata": {},
   "source": [
    "### Creating the models"
   ]
  },
  {
   "cell_type": "code",
   "execution_count": 5,
   "id": "579af63f",
   "metadata": {},
   "outputs": [],
   "source": [
    "# creating the models\n",
    "models = {\n",
    "    'Rectifier': Maxout(in_features=1, num_units=1, num_pieces=5),\n",
    "    'Absolute value': Maxout(in_features=1, num_units=1, num_pieces=5),\n",
    "    'Quadratic': Maxout(in_features=1, num_units=1, num_pieces=16)\n",
    "}"
   ]
  },
  {
   "cell_type": "code",
   "execution_count": 6,
   "id": "440fa81a",
   "metadata": {},
   "outputs": [
    {
     "name": "stdout",
     "output_type": "stream",
     "text": [
      "training Rectifier\n",
      "epoch: 0\tloss: 0.6306919455528259\n",
      "epoch: 100\tloss: 0.0014146373141556978\n",
      "epoch: 200\tloss: 0.00040068262023851275\n",
      "epoch: 300\tloss: 0.00012028811033815145\n",
      "epoch: 400\tloss: 3.722939800354652e-05\n",
      "epoch: 500\tloss: 1.1879761586897075e-05\n",
      "epoch: 600\tloss: 3.97493477066746e-06\n",
      "epoch: 700\tloss: 1.4426499319597497e-06\n",
      "epoch: 800\tloss: 5.937695846114366e-07\n",
      "epoch: 900\tloss: 2.863745578451926e-07\n",
      "training Absolute value\n",
      "epoch: 0\tloss: 0.16830772161483765\n",
      "epoch: 100\tloss: 0.011203121393918991\n",
      "epoch: 200\tloss: 0.002821031492203474\n",
      "epoch: 300\tloss: 0.0008028654847294092\n",
      "epoch: 400\tloss: 0.00023761234479025006\n",
      "epoch: 500\tloss: 7.212961645564064e-05\n",
      "epoch: 600\tloss: 2.2673080820823088e-05\n",
      "epoch: 700\tloss: 7.587374511786038e-06\n",
      "epoch: 800\tloss: 2.8347365059744334e-06\n",
      "epoch: 900\tloss: 1.2398036233207677e-06\n",
      "training Quadratic\n",
      "epoch: 0\tloss: 0.648661732673645\n",
      "epoch: 100\tloss: 0.016425417736172676\n",
      "epoch: 200\tloss: 0.00867243018001318\n",
      "epoch: 300\tloss: 0.0054054525680840015\n",
      "epoch: 400\tloss: 0.0037263778503984213\n",
      "epoch: 500\tloss: 0.002761685289442539\n",
      "epoch: 600\tloss: 0.0021530960220843554\n",
      "epoch: 700\tloss: 0.0017408964922651649\n",
      "epoch: 800\tloss: 0.0014464657288044691\n",
      "epoch: 900\tloss: 0.001227427739650011\n"
     ]
    }
   ],
   "source": [
    "epochs = 1000\n",
    "learning_rate = 0.1\n",
    "criterion = nn.MSELoss()\n",
    "verbose = True\n",
    "\n",
    "y_pred = {}\n",
    "for func, model in models.items():\n",
    "\n",
    "    # using stochastic gradient descent\n",
    "    optimizer = torch.optim.SGD(model.parameters(), lr=learning_rate)\n",
    "\n",
    "    if verbose: print(f'training {func}') \n",
    "    for epoch in range(epochs):\n",
    "        optimizer.zero_grad() \n",
    "\n",
    "        y_hat = model.forward(X_train)\n",
    "        \n",
    "        loss = criterion(y_hat, y_train[func])\n",
    "        \n",
    "        loss.backward()\n",
    "        \n",
    "        optimizer.step()\n",
    "        \n",
    "        if (epoch % 100 == 0) and verbose:\n",
    "            print(f'epoch: {epoch}\\tloss: {loss.item()}')\n",
    "\n",
    "    # make predictions and store predictions (only using training data, ignoring test data)\n",
    "    # transform to numpy array: .detach() -> .numpy()\n",
    "    y_pred[func] = model.forward(X_train).detach().numpy()"
   ]
  },
  {
   "cell_type": "markdown",
   "id": "2b2b0982",
   "metadata": {},
   "source": [
    "## Visualize"
   ]
  },
  {
   "cell_type": "code",
   "execution_count": 7,
   "id": "7861f683",
   "metadata": {},
   "outputs": [
    {
     "data": {
      "image/png": "[encoded data removed]",
      "text/plain": [
       "<Figure size 960x320 with 3 Axes>"
      ]
     },
     "metadata": {},
     "output_type": "display_data"
    }
   ],
   "source": [
    "plt.style.use('classic')\n",
    "fig, ax = plt.subplots(nrows=1, ncols=3, figsize=(12, 4))\n",
    "\n",
    "ax = ax.flatten() # make indexing way easier\n",
    "for i, (func, y_hat) in enumerate(y_pred.items()):\n",
    "    ax[i].plot(X_train, y_hat, label='maxout', color='blue')\n",
    "    ax[i].plot(X_train, y_train[func], label='ground truth', alpha=0.6, color='black')\n",
    "    ax[i].set_title(f'{func}')\n",
    "    ax[i].set_xlabel('x')\n",
    "    ax[i].set_ylabel('h(x)')\n",
    "    ax[i].set_xticklabels([]) \n",
    "    ax[i].set_yticklabels([])\n",
    "    ax[i].legend()\n",
    "plt.show()"
   ]
  }
 ],
 "metadata": {
  "kernelspec": {
   "display_name": "dlenv",
   "language": "python",
   "name": "python3"
  },
  "language_info": {
   "codemirror_mode": {
    "name": "ipython",
    "version": 3
   },
   "file_extension": ".py",
   "mimetype": "text/x-python",
   "name": "python",
   "nbconvert_exporter": "python",
   "pygments_lexer": "ipython3",
   "version": "3.12.9"
  }
 },
 "nbformat": 4,
 "nbformat_minor": 5
}
